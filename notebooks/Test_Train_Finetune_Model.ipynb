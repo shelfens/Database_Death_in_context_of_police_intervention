{
 "cells": [
  {
   "cell_type": "markdown",
   "id": "541589e5",
   "metadata": {},
   "source": [
    "# Test - Train Model"
   ]
  },
  {
   "cell_type": "code",
   "execution_count": 2,
   "id": "7d64247d",
   "metadata": {},
   "outputs": [
    {
     "name": "stderr",
     "output_type": "stream",
     "text": [
      "c:\\Users\\stefa\\anaconda3\\envs\\ada_project\\lib\\site-packages\\tqdm\\auto.py:21: TqdmWarning: IProgress not found. Please update jupyter and ipywidgets. See https://ipywidgets.readthedocs.io/en/stable/user_install.html\n",
      "  from .autonotebook import tqdm as notebook_tqdm\n"
     ]
    }
   ],
   "source": [
    "# Import packages\n",
    "from datasets import Dataset\n",
    "import pandas as pd\n",
    "from iterstrat.ml_stratifiers import MultilabelStratifiedShuffleSplit\n",
    "from transformers import CamembertTokenizer, CamembertForSequenceClassification, Trainer, TrainingArguments, EarlyStoppingCallback, CamembertConfig, CamembertModel\n",
    "import torch\n",
    "import torch.nn as nn\n",
    "\n",
    "from sklearn.metrics import confusion_matrix, ConfusionMatrixDisplay, precision_recall_fscore_support\n",
    "import matplotlib.pyplot as plt\n",
    "import numpy as np\n",
    "import seaborn as sns"
   ]
  },
  {
   "cell_type": "markdown",
   "id": "a6fbc55e",
   "metadata": {},
   "source": [
    "### Formulas"
   ]
  },
  {
   "cell_type": "code",
   "execution_count": 3,
   "id": "d146116e",
   "metadata": {},
   "outputs": [],
   "source": [
    "def preprocess(data):\n",
    "    tokens = tokenizer(data['text'], truncation=True, padding=\"max_length\")\n",
    "    data[\"labels\"] = [data[col] for col in lables] \n",
    "    return tokens"
   ]
  },
  {
   "cell_type": "markdown",
   "id": "065562cd",
   "metadata": {},
   "source": [
    "### Load datasets"
   ]
  },
  {
   "cell_type": "code",
   "execution_count": 4,
   "id": "654de1ea",
   "metadata": {},
   "outputs": [
    {
     "data": {
      "text/html": [
       "<div>\n",
       "<style scoped>\n",
       "    .dataframe tbody tr th:only-of-type {\n",
       "        vertical-align: middle;\n",
       "    }\n",
       "\n",
       "    .dataframe tbody tr th {\n",
       "        vertical-align: top;\n",
       "    }\n",
       "\n",
       "    .dataframe thead th {\n",
       "        text-align: right;\n",
       "    }\n",
       "</style>\n",
       "<table border=\"1\" class=\"dataframe\">\n",
       "  <thead>\n",
       "    <tr style=\"text-align: right;\">\n",
       "      <th></th>\n",
       "      <th>Title</th>\n",
       "      <th>Lead_posts</th>\n",
       "      <th>Link</th>\n",
       "      <th>Source</th>\n",
       "      <th>triggers</th>\n",
       "      <th>Date</th>\n",
       "      <th>Death</th>\n",
       "      <th>police</th>\n",
       "      <th>Suisse</th>\n",
       "      <th>All</th>\n",
       "      <th>text</th>\n",
       "    </tr>\n",
       "  </thead>\n",
       "  <tbody>\n",
       "    <tr>\n",
       "      <th>0</th>\n",
       "      <td>Une intervention de police tourne au drame à L...</td>\n",
       "      <td>Un Sri Lankais abattu. Légitime défense invoquée.</td>\n",
       "      <td>Une intervention de police tourne au drame à L...</td>\n",
       "      <td>Letemps</td>\n",
       "      <td>{drame: mort, intervention police: police, lég...</td>\n",
       "      <td>14 avril 2004</td>\n",
       "      <td>1</td>\n",
       "      <td>1</td>\n",
       "      <td>1</td>\n",
       "      <td>1</td>\n",
       "      <td>Une intervention de police tourne au drame à L...</td>\n",
       "    </tr>\n",
       "    <tr>\n",
       "      <th>1</th>\n",
       "      <td>La mort du requérant gambien en prison met en ...</td>\n",
       "      <td>A la suite d’une erreur sur la personne, un re...</td>\n",
       "      <td>La mort du requérant gambien en prison met en ...</td>\n",
       "      <td>Letemps</td>\n",
       "      <td>{mort: mort, cellule: police, prison: police}</td>\n",
       "      <td>2017-10-31 00:00:00</td>\n",
       "      <td>1</td>\n",
       "      <td>1</td>\n",
       "      <td>1</td>\n",
       "      <td>1</td>\n",
       "      <td>La mort du requérant gambien en prison met en ...</td>\n",
       "    </tr>\n",
       "    <tr>\n",
       "      <th>2</th>\n",
       "      <td>Un policier genevois tire sur des voleurs en f...</td>\n",
       "      <td>Au centre-ville, un agent de police fait feu s...</td>\n",
       "      <td>https://www.letemps.ch/suisse/un-policier-gene...</td>\n",
       "      <td>Letemps</td>\n",
       "      <td>{faire feu: mort, un mort: mort, agent de poli...</td>\n",
       "      <td>2000-01-12 00:00:00</td>\n",
       "      <td>1</td>\n",
       "      <td>1</td>\n",
       "      <td>1</td>\n",
       "      <td>1</td>\n",
       "      <td>Un policier genevois tire sur des voleurs en f...</td>\n",
       "    </tr>\n",
       "    <tr>\n",
       "      <th>3</th>\n",
       "      <td>La mort de Mike Ben Peter revient hanter la ju...</td>\n",
       "      <td>Acquittés en première instance, les six polici...</td>\n",
       "      <td>https://www.letemps.ch/suisse/vaud/la-mort-de-...</td>\n",
       "      <td>Letemps</td>\n",
       "      <td>{mort: mort, policiers: police, homicide: mort}</td>\n",
       "      <td>2024-07-01 00:00:00</td>\n",
       "      <td>1</td>\n",
       "      <td>1</td>\n",
       "      <td>1</td>\n",
       "      <td>1</td>\n",
       "      <td>La mort de Mike Ben Peter revient hanter la ju...</td>\n",
       "    </tr>\n",
       "    <tr>\n",
       "      <th>4</th>\n",
       "      <td>Une jeune femme meurt au poste de police</td>\n",
       "      <td>La personne née en 2003 a été retrouvée inanim...</td>\n",
       "      <td>Une jeune femme meurt dans un poste de police ...</td>\n",
       "      <td>TdG</td>\n",
       "      <td>{meurt: mort, poste de police: police, inanimé...</td>\n",
       "      <td>22.02.2024</td>\n",
       "      <td>1</td>\n",
       "      <td>1</td>\n",
       "      <td>1</td>\n",
       "      <td>1</td>\n",
       "      <td>Une jeune femme meurt au poste de police. La p...</td>\n",
       "    </tr>\n",
       "  </tbody>\n",
       "</table>\n",
       "</div>"
      ],
      "text/plain": [
       "                                               Title  \\\n",
       "0  Une intervention de police tourne au drame à L...   \n",
       "1  La mort du requérant gambien en prison met en ...   \n",
       "2  Un policier genevois tire sur des voleurs en f...   \n",
       "3  La mort de Mike Ben Peter revient hanter la ju...   \n",
       "4           Une jeune femme meurt au poste de police   \n",
       "\n",
       "                                          Lead_posts  \\\n",
       "0  Un Sri Lankais abattu. Légitime défense invoquée.   \n",
       "1  A la suite d’une erreur sur la personne, un re...   \n",
       "2  Au centre-ville, un agent de police fait feu s...   \n",
       "3  Acquittés en première instance, les six polici...   \n",
       "4  La personne née en 2003 a été retrouvée inanim...   \n",
       "\n",
       "                                                Link   Source  \\\n",
       "0  Une intervention de police tourne au drame à L...  Letemps   \n",
       "1  La mort du requérant gambien en prison met en ...  Letemps   \n",
       "2  https://www.letemps.ch/suisse/un-policier-gene...  Letemps   \n",
       "3  https://www.letemps.ch/suisse/vaud/la-mort-de-...  Letemps   \n",
       "4  Une jeune femme meurt dans un poste de police ...      TdG   \n",
       "\n",
       "                                            triggers                 Date  \\\n",
       "0  {drame: mort, intervention police: police, lég...        14 avril 2004   \n",
       "1      {mort: mort, cellule: police, prison: police}  2017-10-31 00:00:00   \n",
       "2  {faire feu: mort, un mort: mort, agent de poli...  2000-01-12 00:00:00   \n",
       "3    {mort: mort, policiers: police, homicide: mort}  2024-07-01 00:00:00   \n",
       "4  {meurt: mort, poste de police: police, inanimé...           22.02.2024   \n",
       "\n",
       "   Death  police  Suisse  All  \\\n",
       "0      1       1       1    1   \n",
       "1      1       1       1    1   \n",
       "2      1       1       1    1   \n",
       "3      1       1       1    1   \n",
       "4      1       1       1    1   \n",
       "\n",
       "                                                text  \n",
       "0  Une intervention de police tourne au drame à L...  \n",
       "1  La mort du requérant gambien en prison met en ...  \n",
       "2  Un policier genevois tire sur des voleurs en f...  \n",
       "3  La mort de Mike Ben Peter revient hanter la ju...  \n",
       "4  Une jeune femme meurt au poste de police. La p...  "
      ]
     },
     "execution_count": 4,
     "metadata": {},
     "output_type": "execute_result"
    }
   ],
   "source": [
    "# Load classified dataset\n",
    "data = pd.read_excel(\"../classified_titles_4.xlsx\") \n",
    "data['text'] = data[\"Title\"].fillna('') + '. ' + data[\"Lead_posts\"].fillna('')\n",
    "data = data.dropna(subset=['text']).reset_index().drop(columns='index')\n",
    "data.head()"
   ]
  },
  {
   "cell_type": "code",
   "execution_count": 5,
   "id": "62ffaed9",
   "metadata": {},
   "outputs": [],
   "source": [
    "data = data[['text', 'Death', 'police', 'All']]\n",
    "\n",
    "X = data['text']\n",
    "y = data[[ 'Death', 'police', 'All']].values"
   ]
  },
  {
   "cell_type": "markdown",
   "id": "08e08f4a",
   "metadata": {},
   "source": [
    "### Split the train-test dataset"
   ]
  },
  {
   "cell_type": "code",
   "execution_count": 6,
   "id": "a45ac346",
   "metadata": {},
   "outputs": [],
   "source": [
    "msss = MultilabelStratifiedShuffleSplit(n_splits=1, test_size=0.2, random_state=42)"
   ]
  },
  {
   "cell_type": "code",
   "execution_count": 7,
   "id": "1d93f8e0",
   "metadata": {},
   "outputs": [],
   "source": [
    "for train_index, test_index in msss.split(X, y):\n",
    "    X_train, X_test = X[train_index], X[test_index]\n",
    "    y_train, y_test = y[train_index], y[test_index]"
   ]
  },
  {
   "cell_type": "code",
   "execution_count": 8,
   "id": "9bdb4643",
   "metadata": {},
   "outputs": [],
   "source": [
    "train_df = data.iloc[train_index]\n",
    "test_df = data.iloc[test_index]\n",
    "\n",
    "train_df = train_df.drop(columns=[\"__index_level_0__\"], errors=\"ignore\")\n",
    "test_df = test_df.drop(columns=[\"__index_level_0__\"], errors=\"ignore\")\n",
    "\n",
    "train_dataset = Dataset.from_pandas(train_df.reset_index(drop=True))\n",
    "test_dataset = Dataset.from_pandas(test_df.reset_index(drop=True))"
   ]
  },
  {
   "cell_type": "markdown",
   "id": "a90db70d",
   "metadata": {},
   "source": [
    "### Attribute different weights"
   ]
  },
  {
   "cell_type": "code",
   "execution_count": 9,
   "id": "bdfdc24d",
   "metadata": {},
   "outputs": [],
   "source": [
    "class CamemBERT_adjustedWeight(CamembertForSequenceClassification):\n",
    "    def __init__(self, config, label_weights):\n",
    "        super().__init__(config)\n",
    "        self.label_weights = label_weights\n",
    "\n",
    "    def forward(self, input_ids=None, attention_mask=None, labels=None, **kwargs):\n",
    "        outputs = self.roberta(\n",
    "            input_ids=input_ids,\n",
    "            attention_mask=attention_mask,\n",
    "        )\n",
    "        sequence_output = outputs[0]\n",
    "        logits = self.classifier(sequence_output)\n",
    "\n",
    "        loss = None\n",
    "        if labels is not None:\n",
    "            loss_fct = nn.BCEWithLogitsLoss(pos_weight=self.label_weights.to(logits.device))\n",
    "            loss = loss_fct(logits, labels.float())\n",
    "\n",
    "        return {\"loss\": loss, \"logits\": logits} if loss is not None else {\"logits\": logits}\n"
   ]
  },
  {
   "cell_type": "code",
   "execution_count": 10,
   "id": "f632143f",
   "metadata": {},
   "outputs": [],
   "source": [
    "# Weight the different labels\n",
    "weight_police_death = len(data[data['All'] == 1])/len(data)\n",
    "weight_death = len(data[data['Death'] == 1])/len(data) / weight_police_death\n",
    "weight_police = len(data[data['police'] == 1])/len(data) / weight_police_death\n",
    "weight_police_death = 1\n",
    "\n",
    "lables = [ 'Death', 'police', 'All']\n",
    "label_weights = torch.tensor([weight_death, weight_police, 3*weight_police_death])"
   ]
  },
  {
   "cell_type": "markdown",
   "id": "b0ab7936",
   "metadata": {},
   "source": [
    "### Initialize model"
   ]
  },
  {
   "cell_type": "code",
   "execution_count": 11,
   "id": "69ffdc76",
   "metadata": {},
   "outputs": [
    {
     "name": "stderr",
     "output_type": "stream",
     "text": [
      "Some weights of CamemBERT_adjustedWeight were not initialized from the model checkpoint at camembert-base and are newly initialized: ['classifier.dense.bias', 'classifier.dense.weight', 'classifier.out_proj.bias', 'classifier.out_proj.weight']\n",
      "You should probably TRAIN this model on a down-stream task to be able to use it for predictions and inference.\n"
     ]
    }
   ],
   "source": [
    "# Initialize model\n",
    "tokenizer = CamembertTokenizer.from_pretrained(\"camembert-base\")\n",
    "\n",
    "config = CamembertConfig.from_pretrained(\"camembert-base\", num_labels=3, problem_type=\"multi_label_classification\")\n",
    "model = CamemBERT_adjustedWeight.from_pretrained(\"camembert-base\", config=config, label_weights=label_weights)\n"
   ]
  },
  {
   "cell_type": "code",
   "execution_count": 12,
   "id": "5ecc3d86",
   "metadata": {},
   "outputs": [
    {
     "name": "stderr",
     "output_type": "stream",
     "text": [
      "c:\\Users\\stefa\\anaconda3\\envs\\ada_project\\lib\\site-packages\\transformers\\training_args.py:1611: FutureWarning: `evaluation_strategy` is deprecated and will be removed in version 4.46 of 🤗 Transformers. Use `eval_strategy` instead\n",
      "  warnings.warn(\n"
     ]
    }
   ],
   "source": [
    "# Training arguments\n",
    "training_args = TrainingArguments(\n",
    "    output_dir=\"shelfens/results_frenchtitles\",\n",
    "    evaluation_strategy=\"epoch\",\n",
    "    num_train_epochs=10,\n",
    "    save_strategy=\"epoch\", \n",
    "    load_best_model_at_end=True, \n",
    "    metric_for_best_model=\"eval_loss\",\n",
    "    greater_is_better=False,\n",
    "    logging_dir=\"shelfens/logs\",\n",
    "    logging_steps=10,\n",
    ")"
   ]
  },
  {
   "cell_type": "code",
   "execution_count": 13,
   "id": "6309fbe3",
   "metadata": {},
   "outputs": [],
   "source": [
    "early_stopping_callback = EarlyStoppingCallback(early_stopping_patience=2)"
   ]
  },
  {
   "cell_type": "code",
   "execution_count": 14,
   "id": "bf987c6b",
   "metadata": {},
   "outputs": [
    {
     "name": "stderr",
     "output_type": "stream",
     "text": [
      "Map: 100%|██████████| 897/897 [00:01<00:00, 512.18 examples/s]\n",
      "Map: 100%|██████████| 225/225 [00:00<00:00, 714.95 examples/s]\n"
     ]
    }
   ],
   "source": [
    "tokenized_train = train_dataset.map(preprocess, remove_columns=[\"text\"])\n",
    "tokenized_test = test_dataset.map(preprocess, remove_columns=[\"text\"])"
   ]
  },
  {
   "cell_type": "code",
   "execution_count": null,
   "id": "78cf0e2a",
   "metadata": {},
   "outputs": [
    {
     "ename": "",
     "evalue": "",
     "output_type": "error",
     "traceback": [
      "\u001b[1;31mThe Kernel crashed while executing code in the current cell or a previous cell. \n",
      "\u001b[1;31mPlease review the code in the cell(s) to identify a possible cause of the failure. \n",
      "\u001b[1;31mClick <a href='https://aka.ms/vscodeJupyterKernelCrash'>here</a> for more info. \n",
      "\u001b[1;31mView Jupyter <a href='command:jupyter.viewOutput'>log</a> for further details."
     ]
    }
   ],
   "source": [
    "# Trainer and training \n",
    "trainer = Trainer(\n",
    "    model=model,\n",
    "    args=training_args,\n",
    "    train_dataset=tokenized_train,\n",
    "    eval_dataset= tokenized_test,\n",
    "    callbacks=[early_stopping_callback],\n",
    ")"
   ]
  },
  {
   "cell_type": "code",
   "execution_count": null,
   "id": "d1c59c3f",
   "metadata": {},
   "outputs": [],
   "source": [
    "trainer.train()"
   ]
  },
  {
   "cell_type": "code",
   "execution_count": null,
   "id": "6da4a234",
   "metadata": {},
   "outputs": [
    {
     "data": {
      "text/plain": [
       "('shelfens/camembert_multiple_classifier\\\\tokenizer_config.json',\n",
       " 'shelfens/camembert_multiple_classifier\\\\special_tokens_map.json',\n",
       " 'shelfens/camembert_multiple_classifier\\\\sentencepiece.bpe.model',\n",
       " 'shelfens/camembert_multiple_classifier\\\\added_tokens.json')"
      ]
     },
     "execution_count": 38,
     "metadata": {},
     "output_type": "execute_result"
    }
   ],
   "source": [
    "trainer.save_model(\"camembert_multiple_classifier\")\n",
    "tokenizer.save_pretrained(\"camembert_multiple_classifier\")"
   ]
  },
  {
   "cell_type": "markdown",
   "id": "da5eb00d",
   "metadata": {},
   "source": [
    "### Evaluation of model"
   ]
  },
  {
   "cell_type": "code",
   "execution_count": null,
   "id": "db39ec45",
   "metadata": {},
   "outputs": [
    {
     "data": {
      "text/html": [],
      "text/plain": [
       "<IPython.core.display.HTML object>"
      ]
     },
     "metadata": {},
     "output_type": "display_data"
    }
   ],
   "source": [
    "# Get predictions from trainer\n",
    "predictions = trainer.predict(tokenized_test)\n",
    "\n",
    "y_true = predictions.label_ids\n",
    "y_logits = predictions.predictions\n",
    "\n",
    "y_probs = torch.sigmoid(torch.tensor(y_logits)).numpy()\n",
    "y_pred = (y_probs >= 0.5).astype(int)\n",
    "\n",
    "y_true = np.array(y_true)\n",
    "y_pred = np.array(y_pred)"
   ]
  },
  {
   "cell_type": "code",
   "execution_count": null,
   "id": "96d53f56",
   "metadata": {},
   "outputs": [],
   "source": [
    "labels = [\"Death\", \"Police\", \"All\"]\n",
    "\n",
    "for i, label in enumerate(labels):\n",
    "    cm = confusion_matrix(y_true[:, i], y_pred[:, i])\n",
    "    disp = ConfusionMatrixDisplay(confusion_matrix=cm)\n",
    "    disp.plot(cmap=\"Blues\")\n",
    "    plt.title(f\"Confusion Matrix for {label}\")\n",
    "    plt.savefig(f\"shelfens/conf_matrix_{label}.png\", dpi=300)\n",
    "    plt.close()"
   ]
  },
  {
   "cell_type": "code",
   "execution_count": null,
   "id": "dfe2d1ea",
   "metadata": {},
   "outputs": [],
   "source": [
    "# Get precision, recall, F1 for each class\n",
    "prec, recall, f1, _ = precision_recall_fscore_support(y_true, y_pred, average=None)\n",
    "\n",
    "metrics_df = pd.DataFrame({\n",
    "    \"Precision\": prec,\n",
    "    \"Recall\": recall,\n",
    "    \"F1-score\": f1\n",
    "}, index=[\"Death\", \"Police\", \"All\"])\n",
    "\n",
    "# Plot as heatmap\n",
    "plt.figure(figsize=(8, 4))\n",
    "sns.heatmap(metrics_df.T, annot=True, fmt=\".2f\", cmap=\"YlGnBu\")\n",
    "plt.title(\"Precision, Recall, F1 by Class\")\n",
    "plt.xlabel(\"Class\")\n",
    "plt.ylabel(\"Metric\")\n",
    "plt.tight_layout()\n",
    "plt.savefig(\"shelfens/metrics_heatmap.png\", dpi=300)\n",
    "plt.show()"
   ]
  }
 ],
 "metadata": {
  "kernelspec": {
   "display_name": "ada_project",
   "language": "python",
   "name": "python3"
  },
  "language_info": {
   "codemirror_mode": {
    "name": "ipython",
    "version": 3
   },
   "file_extension": ".py",
   "mimetype": "text/x-python",
   "name": "python",
   "nbconvert_exporter": "python",
   "pygments_lexer": "ipython3",
   "version": "3.9.18"
  }
 },
 "nbformat": 4,
 "nbformat_minor": 5
}
