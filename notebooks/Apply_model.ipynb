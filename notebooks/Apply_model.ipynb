{
 "cells": [
  {
   "cell_type": "markdown",
   "id": "a587e744",
   "metadata": {},
   "source": [
    "# Apply Model"
   ]
  },
  {
   "cell_type": "code",
   "execution_count": null,
   "id": "d18e3a8b",
   "metadata": {},
   "outputs": [],
   "source": [
    "# Import packages\n",
    "from transformers import AutoTokenizer, AutoModelForSequenceClassification\n",
    "import torch\n",
    "import torch.nn.functional as F\n",
    "import pandas as pd"
   ]
  },
  {
   "cell_type": "code",
   "execution_count": null,
   "id": "edae79ee",
   "metadata": {},
   "outputs": [],
   "source": [
    "# Load fine-tuned model and tokenizer\n",
    "model_name = \"./shelfens/camembert_multiple_classifier\"\n",
    "tokenizer = AutoTokenizer.from_pretrained(model_name)\n",
    "model = AutoModelForSequenceClassification.from_pretrained(model_name)"
   ]
  },
  {
   "cell_type": "code",
   "execution_count": null,
   "id": "ea3b3a93",
   "metadata": {},
   "outputs": [],
   "source": [
    "# Prepare results DataFrame\n",
    "results_df = pd.DataFrame(columns=[\"text\", \"Death\", \"Police\", \"All (lethal police violence)\", \"Predicted as 'All'\", \"link\"])"
   ]
  },
  {
   "cell_type": "code",
   "execution_count": null,
   "id": "6a20d287",
   "metadata": {},
   "outputs": [],
   "source": [
    "def predict_prob(text, link):\n",
    "    text = str(text)\n",
    "    inputs = tokenizer(text, return_tensors=\"pt\", truncation=True, padding=\"max_length\", max_length=512)\n",
    "\n",
    "    with torch.no_grad():\n",
    "        outputs = model(**inputs)\n",
    "        logits = outputs.logits\n",
    "        probs = torch.sigmoid(logits).squeeze()\n",
    "\n",
    "    is_all = probs[2].item() >= 0.5  # Threshold of 0.5 to classify 'death in the context of a police intervention' as TRUE\n",
    "\n",
    "    results_df.loc[len(results_df)] = [\n",
    "        text,\n",
    "        probs[0].item(),  # Death probability\n",
    "        probs[1].item(),  # Police probability\n",
    "        probs[2].item(),  # All (Death in the context of a police intervention) probability\n",
    "        is_all,\n",
    "        link\n",
    "    ]"
   ]
  },
  {
   "cell_type": "code",
   "execution_count": null,
   "id": "e9bf91a9",
   "metadata": {},
   "outputs": [],
   "source": [
    "df = pd.read_excel(\"../databases/Pipeline2_toapply.xlsx\") #For Pipeline 1: Pipeline1_locations_CH.xlsx\n",
    "df['text'] = df['Title'].fillna('') + \" \" + df['Post_Lead'].fillna('')\n",
    "df = df.dropna(subset=['text'])"
   ]
  },
  {
   "cell_type": "code",
   "execution_count": null,
   "id": "f7171d1d",
   "metadata": {},
   "outputs": [],
   "source": [
    "for _, row in df.iterrows():\n",
    "    predict_prob(row['text'], row['Link'])  # Default to empty string if 'link' not present"
   ]
  },
  {
   "cell_type": "code",
   "execution_count": null,
   "id": "b45bc2d2",
   "metadata": {},
   "outputs": [],
   "source": [
    "results_df.to_excel(\"shelfens/Pipeline2_Outcome.xlsx\", index=False) "
   ]
  }
 ],
 "metadata": {
  "language_info": {
   "name": "python"
  }
 },
 "nbformat": 4,
 "nbformat_minor": 5
}
