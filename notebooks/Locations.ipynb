{
 "cells": [
  {
   "cell_type": "markdown",
   "id": "a81feae2",
   "metadata": {},
   "source": [
    "# Reduction Step: Locations"
   ]
  },
  {
   "cell_type": "code",
   "execution_count": 1,
   "id": "df4c2e5b",
   "metadata": {},
   "outputs": [],
   "source": [
    "# Import packages\n",
    "import spacy\n",
    "from geopy.geocoders import Nominatim\n",
    "import pandas as pd\n",
    "import time\n",
    "import re\n",
    "import unicodedata\n",
    "from geopy.exc import GeocoderServiceError, GeocoderTimedOut"
   ]
  },
  {
   "cell_type": "markdown",
   "id": "2dfaa919",
   "metadata": {},
   "source": [
    "## Pipeline 2"
   ]
  },
  {
   "cell_type": "markdown",
   "id": "78b7f084",
   "metadata": {},
   "source": [
    "As this Pipeline is for this step way simpler, we take it first."
   ]
  },
  {
   "cell_type": "code",
   "execution_count": null,
   "id": "8a69fa1a",
   "metadata": {},
   "outputs": [],
   "source": [
    "# Load data\n",
    "df = pd.read_excel(\"../databases/Titles_le_Temps.xlsx\")\n",
    "df['text'] = df['Title'].fillna('') + \" \" + df['Post_Lead'].fillna('')\n",
    "list = df[\"text\"].to_list()"
   ]
  },
  {
   "cell_type": "code",
   "execution_count": null,
   "id": "36f1b135",
   "metadata": {},
   "outputs": [],
   "source": [
    "df_suisse = df[df['Link'].str.startswith('https://www.letemps.ch/suisse/')]\n",
    "df_suisse.to_excel('../databases/Pipeline2_locations_CH.xlsx')"
   ]
  },
  {
   "cell_type": "markdown",
   "id": "9082de4b",
   "metadata": {},
   "source": [
    "## Pipeline 1"
   ]
  },
  {
   "cell_type": "markdown",
   "id": "4b7ca167",
   "metadata": {},
   "source": [
    "Loading of the french language model and definition of formula to normalize strings. "
   ]
  },
  {
   "cell_type": "code",
   "execution_count": null,
   "id": "039036d0",
   "metadata": {},
   "outputs": [],
   "source": [
    "nlp = spacy.load(\"fr_core_news_md\")\n",
    "\n",
    "def normalize_str(s):\n",
    "    return ''.join(\n",
    "        c for c in unicodedata.normalize('NFD', s)  #breaks the characters in its base and attached accents\n",
    "        if unicodedata.category(c) != 'Mn' #filters out all nonspacing marks, such as accents\n",
    "    ).lower()"
   ]
  },
  {
   "cell_type": "markdown",
   "id": "8148dc32",
   "metadata": {},
   "source": [
    "Formula to extract the location from a text. "
   ]
  },
  {
   "cell_type": "code",
   "execution_count": null,
   "id": "704534a5",
   "metadata": {},
   "outputs": [],
   "source": [
    "def extraire_lieu(texte):\n",
    "    doc = nlp(texte)\n",
    "    lieux = [ent.text for ent in doc.ents if ent.label_ == \"LOC\"]\n",
    "    return lieux"
   ]
  },
  {
   "cell_type": "markdown",
   "id": "0e93b150",
   "metadata": {},
   "source": [
    "The formulas defining if a place is inside of Switzerland (as a location >= village), or if it is a place outside of Switzerland (as a location >= town). Those two limits of geographical entities has been choosen, as otherwise they would always find a small geographical entity that carries the name we are looking for.  "
   ]
  },
  {
   "cell_type": "code",
   "execution_count": null,
   "id": "ef47cdbb",
   "metadata": {},
   "outputs": [],
   "source": [
    "failed_locations = []\n",
    "\n",
    "def verifier_suisse(lieu):\n",
    "    time.sleep(1) \n",
    "    geolocator = Nominatim(user_agent=\"geo_checker\")\n",
    "\n",
    "    try:\n",
    "        location = geolocator.geocode(lieu, addressdetails=True, timeout=7)\n",
    "    except (GeocoderServiceError, GeocoderTimedOut) as e:\n",
    "        failed_locations.append(lieu)\n",
    "        return False\n",
    "\n",
    "    if not location or \"address\" not in location.raw:\n",
    "        failed_locations.append(lieu)\n",
    "        return False\n",
    "\n",
    "    address = location.raw[\"address\"]\n",
    "\n",
    "    # Check if the location is in Switzerland\n",
    "    if address.get(\"country_code\", \"\").lower() != \"ch\":\n",
    "        return False\n",
    "\n",
    "    valid_categories = {\n",
    "        \"village\", \"town\", \"municipality\", \"city\", \"county\", \"district\", \"state\", \"region\", \"country\"\n",
    "    }\n",
    "\n",
    "    lieu_normalized = normalize_str(lieu)\n",
    "\n",
    "    for key in valid_categories:\n",
    "        value = address.get(key)\n",
    "        if value and lieu_normalized == normalize_str(value):\n",
    "            return True\n",
    "\n",
    "\n",
    "    if lieu.strip().lower() == \"de\":\n",
    "        return False\n",
    "\n",
    "    return key in valid_categories\n",
    "\n",
    "\n",
    "def verifier_entite_geographique(lieu):\n",
    "    time.sleep(1)\n",
    "    geolocator = Nominatim(user_agent=\"geo_entity_checker\")\n",
    "\n",
    "    try:\n",
    "        location = geolocator.geocode(lieu, addressdetails=True, timeout=7)\n",
    "    except Exception:\n",
    "        return False\n",
    "\n",
    "    if not location or \"address\" not in location.raw:\n",
    "        return False\n",
    "\n",
    "    blocked_words = {\"terre\", \"monde\", \"earth\", \"planète\", \"univers\", \"place\", \"town\", \"municipality\", \"city\", \"county\", \"district\", \"state\", \"region\", \"country\"}\n",
    "    if normalize_str(lieu) in blocked_words:\n",
    "        return False\n",
    "\n",
    "\n",
    "    address = location.raw[\"address\"]\n",
    "\n",
    "    valid_categories = {\"town\", \"municipality\", \"city\", \"county\", \"district\", \"state\", \"region\", \"country\"}\n",
    "\n",
    "    lieu_normalized = normalize_str(lieu)\n",
    "\n",
    "    for key in valid_categories:\n",
    "        value = address.get(key)\n",
    "        if value and lieu_normalized == normalize_str(value):\n",
    "            return True\n",
    "\n",
    "    return False"
   ]
  },
  {
   "cell_type": "markdown",
   "id": "ab80e538",
   "metadata": {},
   "source": [
    "The formula that classifies the places into the categories 0 (Not Switzerland), 1 (Switzerland), 2 (Not defined). Before this, it re-normalizes the words / strings so that when comparing with the other it would say it to be the same (eg. Genève => geneve). "
   ]
  },
  {
   "cell_type": "code",
   "execution_count": null,
   "id": "1dd908e5",
   "metadata": {},
   "outputs": [],
   "source": [
    "def classify_lieux(lst):\n",
    "    if not lst:\n",
    "        return 2\n",
    "\n",
    "    def get_words(text):\n",
    "        clean = normalize_str(text)  \n",
    "        parts = re.split(r\"[’']\", clean) \n",
    "        return [word for part in parts for word in part.split()]\n",
    "\n",
    "    words = [word for item in lst for word in get_words(item)]\n",
    "\n",
    "    if any(word in [s.lower() for s in Suisse] for word in words):\n",
    "        return 1\n",
    "    elif all(word in [n.lower() for n in Not_Suisse] for word in words):\n",
    "        return 0\n",
    "    else:\n",
    "        return 2"
   ]
  },
  {
   "cell_type": "markdown",
   "id": "f6a623f0",
   "metadata": {},
   "source": [
    "For reasons of computational time, it was decided to first extract all places of the different texts, make a list with all places that are inside, outside of Switzerland and then check for each title if they contain places in one of the two strings. "
   ]
  },
  {
   "cell_type": "code",
   "execution_count": null,
   "id": "1b41a9d0",
   "metadata": {},
   "outputs": [],
   "source": [
    "# Load data\n",
    "test = pd.read_excel(\"../databases/Titles_le_Temps_LP.xlsx\")\n",
    "test['text'] = test['Title'].fillna('') + \" \" + test['Post_Lead'].fillna('')\n",
    "list = test[\"text\"].to_list()"
   ]
  },
  {
   "cell_type": "code",
   "execution_count": null,
   "id": "e12bf251",
   "metadata": {},
   "outputs": [],
   "source": [
    "# Extract places\n",
    "lieux_extraits = [extraire_lieu(str(text)) for text in list]\n",
    "\n",
    "flattened_set = set(\n",
    "    word\n",
    "    for sublist in lieux_extraits\n",
    "    for item in sublist\n",
    "    for phrase in item.split()\n",
    "    for word in re.split(r\"[’']\", phrase)\n",
    ")"
   ]
  },
  {
   "cell_type": "code",
   "execution_count": null,
   "id": "f8a77604",
   "metadata": {},
   "outputs": [],
   "source": [
    "# Fill the two lists with places of Switzerland and outside Switzerland\n",
    "Suisse = []\n",
    "Not_Suisse = []\n",
    "\n",
    "for place in list(flattened_set):\n",
    "    if verifier_suisse(place):\n",
    "        Suisse.append(place)\n",
    "    else:\n",
    "        Not_Suisse.append(place)"
   ]
  },
  {
   "cell_type": "code",
   "execution_count": null,
   "id": "8987c493",
   "metadata": {},
   "outputs": [],
   "source": [
    "# Check if the places that arn't found in switzerland are geographical entities\n",
    "flattened_list_NCH = set(Not_Suisse)\n",
    "\n",
    "Not_Suisse_final = []\n",
    "rest = []\n",
    "\n",
    "for lieu in flattened_list_NCH:\n",
    "    if verifier_entite_geographique(lieu) == True:\n",
    "        Not_Suisse_final.append(lieu)\n",
    "    else:\n",
    "        rest.append(lieu)"
   ]
  },
  {
   "cell_type": "markdown",
   "id": "e488fd28",
   "metadata": {},
   "source": [
    "### Classification of the places into the category 0 (Not Switzerland), 1 (Switzerland), 2 (Not defined)"
   ]
  },
  {
   "cell_type": "code",
   "execution_count": null,
   "id": "8c9877a3",
   "metadata": {},
   "outputs": [],
   "source": [
    "# Extract the places of the texts and classify them\n",
    "test['lieux'] = [extraire_lieu(str(text)) for text in test['text']]\n",
    "\n",
    "test['Classification'] = test['lieux'].apply(classify_lieux)\n",
    "\n",
    "locations_CH = test[test['Classification'] != 0]\n",
    "locations_CH.to_excel('shelfens/Pipeline1_locations_CH.xlsx')"
   ]
  }
 ],
 "metadata": {
  "kernelspec": {
   "display_name": "ada",
   "language": "python",
   "name": "python3"
  },
  "language_info": {
   "codemirror_mode": {
    "name": "ipython",
    "version": 3
   },
   "file_extension": ".py",
   "mimetype": "text/x-python",
   "name": "python",
   "nbconvert_exporter": "python",
   "pygments_lexer": "ipython3",
   "version": "3.9.18"
  }
 },
 "nbformat": 4,
 "nbformat_minor": 5
}
