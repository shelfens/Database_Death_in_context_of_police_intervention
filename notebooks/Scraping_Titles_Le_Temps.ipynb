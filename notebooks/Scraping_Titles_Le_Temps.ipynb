{
 "cells": [
  {
   "cell_type": "markdown",
   "metadata": {},
   "source": [
    "# Scraping Titles 'Le Temps'"
   ]
  },
  {
   "cell_type": "code",
   "execution_count": 3,
   "metadata": {},
   "outputs": [],
   "source": [
    "# Import required packages\n",
    "import requests\n",
    "from bs4 import BeautifulSoup\n",
    "import pandas as pd\n",
    "from datetime import datetime\n",
    "from dateutil import relativedelta"
   ]
  },
  {
   "cell_type": "markdown",
   "metadata": {},
   "source": [
    "In a first step, you can define a list with all the dates that should be scraped - this can be adapted according to needs, for a new year the start can be set to datetime(2023, 3, 1), as until this date the scraping has been done. Like this, the dataset to be treated will be smaller as well. "
   ]
  },
  {
   "cell_type": "code",
   "execution_count": null,
   "metadata": {},
   "outputs": [],
   "source": [
    "# Define start and end dates\n",
    "start = datetime(1998, 3, 1)\n",
    "end = datetime.now()\n",
    "\n",
    "date_list = []\n",
    "\n",
    "date = start\n",
    "while date <= end:\n",
    "    date_list.append(date.strftime(\"%Y%m\"))\n",
    "    date += relativedelta(months=1)\n"
   ]
  },
  {
   "cell_type": "markdown",
   "metadata": {},
   "source": [
    "Start the scraping of the newspaper 'Le Temps' online Archives. The titles are on the first page under the class \"main-grid\", enclosed inside sections like `<li><a href=\"url\">Title</a></li>`, we can access and scrape the link and its text."
   ]
  },
  {
   "cell_type": "code",
   "execution_count": null,
   "metadata": {},
   "outputs": [
    {
     "data": {
      "text/html": [
       "<div>\n",
       "<style scoped>\n",
       "    .dataframe tbody tr th:only-of-type {\n",
       "        vertical-align: middle;\n",
       "    }\n",
       "\n",
       "    .dataframe tbody tr th {\n",
       "        vertical-align: top;\n",
       "    }\n",
       "\n",
       "    .dataframe thead th {\n",
       "        text-align: right;\n",
       "    }\n",
       "</style>\n",
       "<table border=\"1\" class=\"dataframe\">\n",
       "  <thead>\n",
       "    <tr style=\"text-align: right;\">\n",
       "      <th></th>\n",
       "      <th>Title</th>\n",
       "      <th>Link</th>\n",
       "      <th>Date</th>\n",
       "    </tr>\n",
       "  </thead>\n",
       "  <tbody>\n",
       "    <tr>\n",
       "      <th>0</th>\n",
       "      <td>La Banque vaudoise de crédit coulée par sa fré...</td>\n",
       "      <td>https://www.letemps.ch/societe/banque-vaudoise...</td>\n",
       "      <td>199803</td>\n",
       "    </tr>\n",
       "    <tr>\n",
       "      <th>1</th>\n",
       "      <td>Un policier a abusé d'un adolescent pendant si...</td>\n",
       "      <td>https://www.letemps.ch/societe/un-policier-abu...</td>\n",
       "      <td>199803</td>\n",
       "    </tr>\n",
       "    <tr>\n",
       "      <th>2</th>\n",
       "      <td>Le métier d'inventeur, ou l'art de plaire à se...</td>\n",
       "      <td>https://www.letemps.ch/societe/metier-dinvente...</td>\n",
       "      <td>199803</td>\n",
       "    </tr>\n",
       "    <tr>\n",
       "      <th>3</th>\n",
       "      <td>Par Luis Lema: une Europe en expansion</td>\n",
       "      <td>https://www.letemps.ch/opinions/editoriaux/lui...</td>\n",
       "      <td>199803</td>\n",
       "    </tr>\n",
       "    <tr>\n",
       "      <th>4</th>\n",
       "      <td>Les cantons sont poussés à des choix drastiques</td>\n",
       "      <td>https://www.letemps.ch/suisse/cantons-pousses-...</td>\n",
       "      <td>199803</td>\n",
       "    </tr>\n",
       "  </tbody>\n",
       "</table>\n",
       "</div>"
      ],
      "text/plain": [
       "                                               Title  \\\n",
       "0  La Banque vaudoise de crédit coulée par sa fré...   \n",
       "1  Un policier a abusé d'un adolescent pendant si...   \n",
       "2  Le métier d'inventeur, ou l'art de plaire à se...   \n",
       "3             Par Luis Lema: une Europe en expansion   \n",
       "4    Les cantons sont poussés à des choix drastiques   \n",
       "\n",
       "                                                Link    Date  \n",
       "0  https://www.letemps.ch/societe/banque-vaudoise...  199803  \n",
       "1  https://www.letemps.ch/societe/un-policier-abu...  199803  \n",
       "2  https://www.letemps.ch/societe/metier-dinvente...  199803  \n",
       "3  https://www.letemps.ch/opinions/editoriaux/lui...  199803  \n",
       "4  https://www.letemps.ch/suisse/cantons-pousses-...  199803  "
      ]
     },
     "execution_count": 8,
     "metadata": {},
     "output_type": "execute_result"
    }
   ],
   "source": [
    "# URL of the Le Temps archive page\n",
    "url_start = \"https://www.letemps.ch/archive/\"\n",
    "data = []\n",
    "missed_data = []\n",
    "\n",
    "for i in date_list:\n",
    "    url = url_start+i\n",
    "\n",
    "    headers = {\"User-Agent\": \"Mozilla/5.0\"}\n",
    "    response = requests.get(url, headers=headers)\n",
    "    response.raise_for_status()\n",
    "\n",
    "    soup = BeautifulSoup(response.text, \"html.parser\")\n",
    "\n",
    "    main_grid = soup.find(class_=\"main-grid\")\n",
    "\n",
    "    if main_grid:\n",
    "        articles = main_grid.select(\"li a\")\n",
    "    \n",
    "    # Extract and print titles and links\n",
    "        for article in articles:\n",
    "            title = article.get_text(strip=True)\n",
    "            link = article[\"href\"]\n",
    "\n",
    "            if not link.startswith(\"http\"):\n",
    "                link = \"https://www.letemps.ch\" + link\n",
    "\n",
    "            data.append({\"Title\": title, \"Link\": link, \"Date\": i})\n",
    "    else:\n",
    "        print(\"No 'main-grid' section found on the page.\")\n",
    "\n",
    "# Create dataframe with the data inside of it\n",
    "df = pd.DataFrame(data=data, columns= [\"Title\", \"Link\", \"Date\"])\n",
    "df.head()"
   ]
  },
  {
   "cell_type": "markdown",
   "metadata": {},
   "source": [
    "In order to save the scraped data at its different steps, it is possible to export them to an excel for example. I used this to be able to work on the partial steps in the same time. "
   ]
  },
  {
   "cell_type": "code",
   "execution_count": null,
   "metadata": {},
   "outputs": [],
   "source": [
    "# Dataframe to excel\n",
    "df.to_excel(\"Titles_le_Temps.xlsx\",sheet_name='Le_Temps')  "
   ]
  }
 ],
 "metadata": {
  "kernelspec": {
   "display_name": "ada_project",
   "language": "python",
   "name": "python3"
  },
  "language_info": {
   "codemirror_mode": {
    "name": "ipython",
    "version": 3
   },
   "file_extension": ".py",
   "mimetype": "text/x-python",
   "name": "python",
   "nbconvert_exporter": "python",
   "pygments_lexer": "ipython3",
   "version": "3.9.18"
  }
 },
 "nbformat": 4,
 "nbformat_minor": 2
}
