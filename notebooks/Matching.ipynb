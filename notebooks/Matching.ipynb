{
 "cells": [
  {
   "cell_type": "markdown",
   "id": "65d8d962",
   "metadata": {},
   "source": [
    "# Matching"
   ]
  },
  {
   "cell_type": "code",
   "execution_count": null,
   "id": "7a058fcf",
   "metadata": {},
   "outputs": [],
   "source": [
    "# Import packages\n",
    "import pandas as pd"
   ]
  },
  {
   "cell_type": "code",
   "execution_count": null,
   "id": "b027201d",
   "metadata": {},
   "outputs": [],
   "source": [
    "def match_count_for_content(content):\n",
    "    content = str(content).lower()\n",
    "    max_count = 0\n",
    "    for _, row in df_cat.iterrows():\n",
    "        count = 0\n",
    "        if pd.notna(row['Name']) and row['Name'] not in ignore and str(row['Name']).lower() in content:\n",
    "            \n",
    "            return 5\n",
    "        if str(row['Year']).lower() in content and str(row[\"Month\"]).lower() in content:\n",
    "            count += 1\n",
    "\n",
    "        other_data = row.drop(labels=[\"Year\", \"Month\"])\n",
    "        for val in other_data:\n",
    "            if pd.notna(val) and val not in ignore and str(val).lower() in content:\n",
    "                count += 1\n",
    "        max_count = max(max_count, count)\n",
    "        \n",
    "    return max_count\n"
   ]
  },
  {
   "cell_type": "code",
   "execution_count": null,
   "id": "9db04596",
   "metadata": {},
   "outputs": [],
   "source": [
    "df_cat = pd.read_excel(\"BorderForensics/NotProvided.xlsx\")\n",
    "df = pd.read_excel(\"shelfens/Added_Content_Pipeline_2.xlsx\")\n"
   ]
  },
  {
   "cell_type": "code",
   "execution_count": null,
   "id": "c3b7f9b9",
   "metadata": {},
   "outputs": [],
   "source": [
    "df['text'] = df['text'].fillna('') + \" \" + df['Content_x'].fillna('')\n",
    "\n",
    "ignore = {'unknown', 'n.n.', None}\n",
    "df['matches'] = df['text'].apply(match_count_for_content)\n",
    "\n",
    "df.to_excel(\"shelfens/Pipeline1_Matched_dataset.xlsx\")"
   ]
  }
 ],
 "metadata": {
  "language_info": {
   "name": "python"
  }
 },
 "nbformat": 4,
 "nbformat_minor": 5
}
